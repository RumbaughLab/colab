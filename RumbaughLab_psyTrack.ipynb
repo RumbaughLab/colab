{
  "nbformat": 4,
  "nbformat_minor": 0,
  "metadata": {
    "colab": {
      "name": "RumbaughLab_psyTrack.ipynb",
      "provenance": [],
      "collapsed_sections": [],
      "authorship_tag": "ABX9TyPSicOEiDPrU912l0ZIs8AW",
      "include_colab_link": true
    },
    "kernelspec": {
      "name": "python3",
      "display_name": "Python 3"
    },
    "language_info": {
      "name": "python"
    }
  },
  "cells": [
    {
      "cell_type": "markdown",
      "metadata": {
        "id": "view-in-github",
        "colab_type": "text"
      },
      "source": [
        "<a href=\"https://colab.research.google.com/github/RumbaughLab/colab/blob/main/RumbaughLab_psyTrack.ipynb\" target=\"_parent\"><img src=\"https://colab.research.google.com/assets/colab-badge.svg\" alt=\"Open In Colab\"/></a>"
      ]
    },
    {
      "cell_type": "markdown",
      "source": [
        "# _Implementation of psyTrack for Rumbaugh Lab_\n",
        "## Figure Generator\n",
        "\n",
        "relevant to:\n",
        "1. Cris Creson\n",
        "2. Sheldon Michaelson\n",
        "3. Randy Golvin\n",
        "4. Tom Vaissiere\n",
        "\n",
        "\n",
        "_(v1.0, last updated January, 26, 2022)_\n",
        "\n",
        "---"
      ],
      "metadata": {
        "id": "3cl2R3bwztnV"
      }
    },
    {
      "cell_type": "markdown",
      "source": [
        "This notebook will attempt at the implementation of psyTrack on WDIL data and especially the WDIL dataset WDIL0007 which are located in a shared folder.\n",
        "\n",
        "Important note: modification of the inuputs should enable analysis of other WDIL dataset\n",
        "\n",
        "Several additional layres can be incorporated like:\n",
        "\n",
        "\n",
        "1.   Stimulus intensities\n",
        "2.   Number of lick in specific interval\n",
        "3.   pick pupil diameter\n",
        "4.   etc.\n",
        "\n",
        "References:\n",
        "\n",
        "\n",
        "*   [psyTrack](https://github.com/nicholas-roy/psytrack)\n",
        "*   [paper](https://www.cell.com/neuron/fulltext/S0896-6273(20)30963-6?_returnURL=https%3A%2F%2Flinkinghub.elsevier.com%2Fretrieve%2Fpii%2FS0896627320309636%3Fshowall%3Dtrue) and [colab](https://tinyurl.com/PsyTrack-colab)\n",
        "\n",
        "\n",
        "\n"
      ],
      "metadata": {
        "id": "QhY6nN-t0lTi"
      }
    }
  ]
}